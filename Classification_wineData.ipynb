{
  "cells": [
    {
      "cell_type": "markdown",
      "metadata": {
        "id": "view-in-github",
        "colab_type": "text"
      },
      "source": [
        "<a href=\"https://colab.research.google.com/github/roshanakkarimi/Classification_wineData/blob/main/Classification_wineData.ipynb\" target=\"_parent\"><img src=\"https://colab.research.google.com/assets/colab-badge.svg\" alt=\"Open In Colab\"/></a>"
      ]
    },
    {
      "cell_type": "markdown",
      "metadata": {
        "id": "pWNnkk8fobw3"
      },
      "source": [
        "We first import the dataset we are going to use."
      ]
    },
    {
      "cell_type": "code",
      "execution_count": 1,
      "metadata": {
        "id": "8PySGYd_obw4"
      },
      "outputs": [],
      "source": [
        "#let's import the sklearn library\n",
        "\n",
        "import sklearn\n",
        "#let's print out the version of scikit-learn\n",
        "\n",
        "\n",
        "#this imports the datasets module, which has useful datasets\n",
        "from sklearn import datasets\n",
        "\n",
        "# Load the dataset from scikit learn\n",
        "wine = datasets.load_wine()"
      ]
    },
    {
      "cell_type": "markdown",
      "metadata": {
        "id": "je6eqw2kobwx"
      },
      "source": [
        "# Linear Models for Classification: Wine Dataset\n",
        "\n",
       
        "### Dataset description\n",
        "\n",
        "We will be working with a dataset on wines from the UCI machine learning repository\n",
        "(http://archive.ics.uci.edu/ml/datasets/Wine). It contains data for 178 instances.\n",
        "The dataset is the results of a chemical analysis of wines grown in the same region\n",
        "in Italy but derived from three different cultivars. The analysis determined the\n",
        "quantities of 13 constituents found in each of the three types of wines.\n",
        "\n",
        "### The features in the dataset are:\n",
        "\n",
        "- Alcohol\n",
        "- Malic acid\n",
        "- Ash\n",
        "- Alcalinity of ash\n",
        "- Magnesium\n",
        "- Total phenols\n",
        "- Flavanoids\n",
        "- Nonflavanoid phenols\n",
        "- Proanthocyanins\n",
        "- Color intensity\n",
        "- Hue\n",
        "- OD280/OD315 of diluted wines\n",
        "-Proline\n",
        "\n"
      ]
    },
    {
      "cell_type": "markdown",
      "metadata": {
        "id": "9cfykxTBobw6"
      },
      "source": [
        "Now let's understand a little bit the data."
      ]
    },
    {
      "cell_type": "code",
      "execution_count": 2,
      "metadata": {
        "colab": {
          "base_uri": "https://localhost:8080/"
        },
        "id": "TWxc7SCnobw7",
        "outputId": "09c88550-c384-4334-d5e3-aaeb0fdefc84"
      },
      "outputs": [
        {
          "output_type": "stream",
          "name": "stdout",
          "text": [
            "[[1.423e+01 1.710e+00 2.430e+00 ... 1.040e+00 3.920e+00 1.065e+03]\n",
            " [1.320e+01 1.780e+00 2.140e+00 ... 1.050e+00 3.400e+00 1.050e+03]\n",
            " [1.316e+01 2.360e+00 2.670e+00 ... 1.030e+00 3.170e+00 1.185e+03]\n",
            " ...\n",
            " [1.327e+01 4.280e+00 2.260e+00 ... 5.900e-01 1.560e+00 8.350e+02]\n",
            " [1.317e+01 2.590e+00 2.370e+00 ... 6.000e-01 1.620e+00 8.400e+02]\n",
            " [1.413e+01 4.100e+00 2.740e+00 ... 6.100e-01 1.600e+00 5.600e+02]]\n",
            "(178, 13)\n",
            "[0 0 0 0 0 0 0 0 0 0 0 0 0 0 0 0 0 0 0 0 0 0 0 0 0 0 0 0 0 0 0 0 0 0 0 0 0\n",
            " 0 0 0 0 0 0 0 0 0 0 0 0 0 0 0 0 0 0 0 0 0 0 1 1 1 1 1 1 1 1 1 1 1 1 1 1 1\n",
            " 1 1 1 1 1 1 1 1 1 1 1 1 1 1 1 1 1 1 1 1 1 1 1 1 1 1 1 1 1 1 1 1 1 1 1 1 1\n",
            " 1 1 1 1 1 1 1 1 1 1 1 1 1 1 1 1 1 1 1 2 2 2 2 2 2 2 2 2 2 2 2 2 2 2 2 2 2\n",
            " 2 2 2 2 2 2 2 2 2 2 2 2 2 2 2 2 2 2 2 2 2 2 2 2 2 2 2 2 2 2]\n",
            "['alcohol', 'malic_acid', 'ash', 'alcalinity_of_ash', 'magnesium', 'total_phenols', 'flavanoids', 'nonflavanoid_phenols', 'proanthocyanins', 'color_intensity', 'hue', 'od280/od315_of_diluted_wines', 'proline']\n",
            "['class_0' 'class_1' 'class_2']\n",
            ".. _wine_dataset:\n",
            "\n",
            "Wine recognition dataset\n",
            "------------------------\n",
            "\n",
            "**Data Set Characteristics:**\n",
            "\n",
            ":Number of Instances: 178\n",
            ":Number of Attributes: 13 numeric, predictive attributes and the class\n",
            ":Attribute Information:\n",
            "    - Alcohol\n",
            "    - Malic acid\n",
            "    - Ash\n",
            "    - Alcalinity of ash\n",
            "    - Magnesium\n",
            "    - Total phenols\n",
            "    - Flavanoids\n",
            "    - Nonflavanoid phenols\n",
            "    - Proanthocyanins\n",
            "    - Color intensity\n",
            "    - Hue\n",
            "    - OD280/OD315 of diluted wines\n",
            "    - Proline\n",
            "    - class:\n",
            "        - class_0\n",
            "        - class_1\n",
            "        - class_2\n",
            "\n",
            ":Summary Statistics:\n",
            "\n",
            "============================= ==== ===== ======= =====\n",
            "                                Min   Max   Mean     SD\n",
            "============================= ==== ===== ======= =====\n",
            "Alcohol:                      11.0  14.8    13.0   0.8\n",
            "Malic Acid:                   0.74  5.80    2.34  1.12\n",
            "Ash:                          1.36  3.23    2.36  0.27\n",
            "Alcalinity of Ash:            10.6  30.0    19.5   3.3\n",
            "Magnesium:                    70.0 162.0    99.7  14.3\n",
            "Total Phenols:                0.98  3.88    2.29  0.63\n",
            "Flavanoids:                   0.34  5.08    2.03  1.00\n",
            "Nonflavanoid Phenols:         0.13  0.66    0.36  0.12\n",
            "Proanthocyanins:              0.41  3.58    1.59  0.57\n",
            "Colour Intensity:              1.3  13.0     5.1   2.3\n",
            "Hue:                          0.48  1.71    0.96  0.23\n",
            "OD280/OD315 of diluted wines: 1.27  4.00    2.61  0.71\n",
            "Proline:                       278  1680     746   315\n",
            "============================= ==== ===== ======= =====\n",
            "\n",
            ":Missing Attribute Values: None\n",
            ":Class Distribution: class_0 (59), class_1 (71), class_2 (48)\n",
            ":Creator: R.A. Fisher\n",
            ":Donor: Michael Marshall (MARSHALL%PLU@io.arc.nasa.gov)\n",
            ":Date: July, 1988\n",
            "\n",
            "This is a copy of UCI ML Wine recognition datasets.\n",
            "https://archive.ics.uci.edu/ml/machine-learning-databases/wine/wine.data\n",
            "\n",
            "The data is the results of a chemical analysis of wines grown in the same\n",
            "region in Italy by three different cultivators. There are thirteen different\n",
            "measurements taken for different constituents found in the three types of\n",
            "wine.\n",
            "\n",
            "Original Owners:\n",
            "\n",
            "Forina, M. et al, PARVUS -\n",
            "An Extendible Package for Data Exploration, Classification and Correlation.\n",
            "Institute of Pharmaceutical and Food Analysis and Technologies,\n",
            "Via Brigata Salerno, 16147 Genoa, Italy.\n",
            "\n",
            "Citation:\n",
            "\n",
            "Lichman, M. (2013). UCI Machine Learning Repository\n",
            "[https://archive.ics.uci.edu/ml]. Irvine, CA: University of California,\n",
            "School of Information and Computer Science.\n",
            "\n",
            ".. dropdown:: References\n",
            "\n",
            "    (1) S. Aeberhard, D. Coomans and O. de Vel,\n",
            "    Comparison of Classifiers in High Dimensional Settings,\n",
            "    Tech. Rep. no. 92-02, (1992), Dept. of Computer Science and Dept. of\n",
            "    Mathematics and Statistics, James Cook University of North Queensland.\n",
            "    (Also submitted to Technometrics).\n",
            "\n",
            "    The data was used with many others for comparing various\n",
            "    classifiers. The classes are separable, though only RDA\n",
            "    has achieved 100% correct classification.\n",
            "    (RDA : 100%, QDA 99.4%, LDA 98.9%, 1NN 96.1% (z-transformed data))\n",
            "    (All results using the leave-one-out technique)\n",
            "\n",
            "    (2) S. Aeberhard, D. Coomans and O. de Vel,\n",
            "    \"THE CLASSIFICATION PERFORMANCE OF RDA\"\n",
            "    Tech. Rep. no. 92-01, (1992), Dept. of Computer Science and Dept. of\n",
            "    Mathematics and Statistics, James Cook University of North Queensland.\n",
            "    (Also submitted to Journal of Chemometrics).\n",
            "\n"
          ]
        }
      ],
      "source": [
        "#let's print the data matrix\n",
        "print(wine.data)\n",
        "\n",
        "#let's print the dimension of the data matrix\n",
        "print(wine.data.shape)\n",
        "\n",
        "#let's print the target (labels)\n",
        "print(wine.target)\n",
        "\n",
        "#let's print the features names\n",
        "print(wine.feature_names)\n",
        "\n",
        "#let's print the targets names names\n",
        "print(wine.target_names)\n",
        "\n",
        "#let's print the description of the dataset\n",
        "print(wine.DESCR)"
      ]
    },
    {
      "cell_type": "markdown",
      "metadata": {
        "id": "i63mJwvFobw8"
      },
      "source": [
        "To simplify a bit the problem (and the presentation), we are going to classify class \"1\" vs the other two classes (0 and 2). We are going to relabel the other classes (0 and 2) as \"-1\".\n",
        "\n",
        "For convenience, let's save the instances (vectors of features) in matrix $\\mathbf{X}$ and the targets into a vector $\\mathbf{Y}$."
      ]
    },
    {
      "cell_type": "code",
      "execution_count": 3,
      "metadata": {
        "colab": {
          "base_uri": "https://localhost:8080/"
        },
        "id": "4yzlgG6wobw9",
        "outputId": "87a38af9-09fd-453f-ec16-835e3a79ffc4"
      },
      "outputs": [
        {
          "output_type": "stream",
          "name": "stdout",
          "text": [
            "Matrix of instances\n",
            "[[1.423e+01 1.710e+00 2.430e+00 ... 1.040e+00 3.920e+00 1.065e+03]\n",
            " [1.320e+01 1.780e+00 2.140e+00 ... 1.050e+00 3.400e+00 1.050e+03]\n",
            " [1.316e+01 2.360e+00 2.670e+00 ... 1.030e+00 3.170e+00 1.185e+03]\n",
            " ...\n",
            " [1.327e+01 4.280e+00 2.260e+00 ... 5.900e-01 1.560e+00 8.350e+02]\n",
            " [1.317e+01 2.590e+00 2.370e+00 ... 6.000e-01 1.620e+00 8.400e+02]\n",
            " [1.413e+01 4.100e+00 2.740e+00 ... 6.100e-01 1.600e+00 5.600e+02]]\n",
            "Vector of labels\n",
            "[0 0 0 0 0 0 0 0 0 0 0 0 0 0 0 0 0 0 0 0 0 0 0 0 0 0 0 0 0 0 0 0 0 0 0 0 0\n",
            " 0 0 0 0 0 0 0 0 0 0 0 0 0 0 0 0 0 0 0 0 0 0 1 1 1 1 1 1 1 1 1 1 1 1 1 1 1\n",
            " 1 1 1 1 1 1 1 1 1 1 1 1 1 1 1 1 1 1 1 1 1 1 1 1 1 1 1 1 1 1 1 1 1 1 1 1 1\n",
            " 1 1 1 1 1 1 1 1 1 1 1 1 1 1 1 1 1 1 1 2 2 2 2 2 2 2 2 2 2 2 2 2 2 2 2 2 2\n",
            " 2 2 2 2 2 2 2 2 2 2 2 2 2 2 2 2 2 2 2 2 2 2 2 2 2 2 2 2 2 2]\n"
          ]
        }
      ],
      "source": [
        "X = wine.data\n",
        "Y = wine.target\n",
        "\n",
        "#let's print out the matrix of instances and the vector of targets, just to make sure that everything looks ok\n",
        "print(\"Matrix of instances\")\n",
        "print(X)\n",
        "\n",
        "print(\"Vector of labels\")\n",
        "print(Y)"
      ]
    },
    {
      "cell_type": "markdown",
      "metadata": {
        "id": "HOzOxG0Tobw-"
      },
      "source": [
        "Let's relabel the labels for classes 0 and 2 as stated before."
      ]
    },
    {
      "cell_type": "code",
      "execution_count": 4,
      "metadata": {
        "id": "iPCK6J20obw-",
        "outputId": "83f6049f-3f33-48ad-b298-fe1b6178b6e7",
        "colab": {
          "base_uri": "https://localhost:8080/"
        }
      },
      "outputs": [
        {
          "output_type": "stream",
          "name": "stdout",
          "text": [
            "[-1 -1 -1 -1 -1 -1 -1 -1 -1 -1 -1 -1 -1 -1 -1 -1 -1 -1 -1 -1 -1 -1 -1 -1\n",
            " -1 -1 -1 -1 -1 -1 -1 -1 -1 -1 -1 -1 -1 -1 -1 -1 -1 -1 -1 -1 -1 -1 -1 -1\n",
            " -1 -1 -1 -1 -1 -1 -1 -1 -1 -1 -1  1  1  1  1  1  1  1  1  1  1  1  1  1\n",
            "  1  1  1  1  1  1  1  1  1  1  1  1  1  1  1  1  1  1  1  1  1  1  1  1\n",
            "  1  1  1  1  1  1  1  1  1  1  1  1  1  1  1  1  1  1  1  1  1  1  1  1\n",
            "  1  1  1  1  1  1  1  1  1  1 -1 -1 -1 -1 -1 -1 -1 -1 -1 -1 -1 -1 -1 -1\n",
            " -1 -1 -1 -1 -1 -1 -1 -1 -1 -1 -1 -1 -1 -1 -1 -1 -1 -1 -1 -1 -1 -1 -1 -1\n",
            " -1 -1 -1 -1 -1 -1 -1 -1 -1 -1]\n"
          ]
        }
      ],
      "source": [
        "#let's relabel classes 0 and 2 as -1\n",
        "for i in range(len(Y)):\n",
        "    if Y[i] != 1:\n",
        "        Y[i] = -1\n",
        "\n",
        "\n",
        "#let's print the new vector Y\n",
        "print(Y)"
      ]
    },
    {
      "cell_type": "markdown",
      "metadata": {
        "id": "krCvexXYobw_"
      },
      "source": [
        "## Data Preprocessing and Split into Training and Testing ##"
      ]
    },
    {
      "cell_type": "markdown",
      "metadata": {
        "id": "08QhYlF_obw_"
      },
      "source": [
        "Before we actually learn the model, it is important that we perform two operations:\n",
        "1. split the data into a training set and a test set\n",
        "2. normalize the features\n",
        "\n",
        "**Note**: some of there operations can be done with scikit-learn functions, but we do them \"manually\" to get a better understanding of what is going on."
      ]
    },
    {
      "cell_type": "markdown",
      "metadata": {
        "id": "KbEwb8K4obxA"
      },
      "source": [
        "We now want to split the data into training and testing. Let's say we keep 50% of the data for training and 50% for testing. How do we split the data?\n",
        "\n",
        "What about keeping the first 50% of the raws for training and the last 50% of rows for testing? Is it a good idea?"
      ]
    },
    {
      "cell_type": "markdown",
      "metadata": {
        "id": "DMPFDedXobxB"
      },
      "source": [
        "Solution: randomly permute the rows, and then split as suggested before.\n",
        "\n",
        "**Note**: since we use randomization in some parts, let's fix a random seed (so that the entire procedure is reproducible, hopefully)."
      ]
    },
    {
      "cell_type": "code",
      "execution_count": 5,
      "metadata": {
        "colab": {
          "base_uri": "https://localhost:8080/"
        },
        "id": "IWeJfDreobxB",
        "outputId": "9c03bd62-b9cb-4ca7-af77-211cef639093"
      },
      "outputs": [
        {
          "output_type": "stream",
          "name": "stdout",
          "text": [
            "178\n",
            "[161 117  19  69  53 138 112  14 160 107  11   4 108  42  84 113 152  35\n",
            " 105  31  51 126 130  73  40 162  47  29  16 147  97 159 151   5 120  94\n",
            "  91  81 114  48  54  59 165  39  56  44  78  33  18  58 127 172 148  12\n",
            "  90  95  28 124 135  66 123  17 164  89 170  13 106  45  93  36 171 166\n",
            " 168 175 118  75  21 173   2  70 163   6  85   0 136  77  65  55  99  88\n",
            " 102  46  62  74  92 176 116 119 125 110  10  34  32 145  38  83 154 177\n",
            "  27 100  23 103  67   9 150 104 122 132 153  87  98 111 167 158  64  15\n",
            "  82  41 143 109  80  52  26  76  43  24   3 149  49 131 169  30 121 115\n",
            " 155   8  60 128   1  57  22  61  63   7 174 141  86  96  68  50 142 157\n",
            " 156 139 146 101  20  25 134  71 129 144  79 133 137  72 140  37]\n",
            "[-1  1 -1  1 -1 -1  1 -1 -1  1 -1 -1  1 -1  1  1 -1 -1  1 -1 -1  1 -1  1\n",
            " -1 -1 -1 -1 -1 -1  1 -1 -1 -1  1  1  1  1  1 -1 -1  1 -1 -1 -1 -1  1 -1\n",
            " -1 -1  1 -1 -1 -1  1  1 -1  1 -1  1  1 -1 -1  1 -1 -1  1 -1  1 -1 -1 -1\n",
            " -1 -1  1  1 -1 -1 -1  1 -1 -1  1 -1 -1  1  1 -1  1  1  1 -1  1  1  1 -1\n",
            "  1  1  1  1 -1 -1 -1 -1 -1  1 -1 -1 -1  1 -1  1  1 -1 -1  1  1 -1 -1  1\n",
            "  1  1 -1 -1  1 -1  1 -1 -1  1  1 -1 -1  1 -1 -1 -1 -1 -1 -1 -1 -1  1  1\n",
            " -1 -1  1  1 -1 -1 -1  1  1 -1 -1 -1  1  1  1 -1 -1 -1 -1 -1 -1  1 -1 -1\n",
            " -1  1  1 -1  1 -1 -1  1 -1 -1]\n"
          ]
        }
      ],
      "source": [
        "# we need to import numpy\n",
        "import numpy as np\n",
        "\n",
        "# set the random seed to your ID number\n",
        "IDnumber = 1\n",
        "np.random.seed(IDnumber)\n",
        "\n",
        "#let's generate a permutation among the number of rows\n",
        "m = wine.data.shape[0]\n",
        "print(m)\n",
        "permutation = np.random.permutation(m)\n",
        "print(permutation)\n",
        "X_perm = X[permutation]\n",
        "Y_perm = Y[permutation]\n",
        "\n",
        "#let's print Y_perm\n",
        "print(Y_perm)"
      ]
    },
    {
      "cell_type": "markdown",
      "metadata": {
        "id": "EugH_ZVMobxC"
      },
      "source": [
        "Let's split the data and save into 2 new data matrices/vectors."
      ]
    },
    {
      "cell_type": "code",
      "execution_count": 6,
      "metadata": {
        "colab": {
          "base_uri": "https://localhost:8080/"
        },
        "id": "nIEr84jqobxC",
        "outputId": "afec51d0-2658-4851-9f88-77c60a09760d"
      },
      "outputs": [
        {
          "output_type": "stream",
          "name": "stdout",
          "text": [
            "89\n",
            "89\n",
            "(89, 13)\n",
            "[ 1  1 -1  1  1  1 -1  1  1  1  1 -1 -1 -1 -1 -1  1 -1 -1 -1  1 -1  1  1\n",
            " -1 -1  1  1 -1 -1  1  1  1 -1 -1  1 -1  1 -1 -1  1  1 -1 -1  1 -1 -1 -1\n",
            " -1 -1 -1 -1 -1  1  1 -1 -1  1  1 -1 -1 -1  1  1 -1 -1 -1  1  1  1 -1 -1\n",
            " -1 -1 -1 -1  1 -1 -1 -1  1  1 -1  1 -1 -1  1 -1 -1]\n"
          ]
        }
      ],
      "source": [
        "fraction_train = 0.5\n",
        "fraction_test = 1 - fraction_train\n",
        "\n",
        "m_training = int(X_perm.shape[0] * fraction_train)\n",
        "\n",
        "print(m_training)\n",
        "\n",
        "m_test = int(X_perm.shape[0] - m_training)\n",
        "print(m_test)\n",
        "\n",
        "X_training = X_perm[:m_training,:]\n",
        "print(X_training.shape)\n",
        "Y_trainnig = Y_perm[:m_training]\n",
        "\n",
        "X_test = X_perm[m_training:,:]\n",
        "Y_test = Y_perm[m_training:]\n",
        "\n",
        "print(Y_test)"
      ]
    },
    {
      "cell_type": "markdown",
      "metadata": {
        "id": "geeBz5A_obxD"
      },
      "source": [
        "We now center and scale the data to have unit variance. This is an important step for the stability of the computation and for other reasons. We are going to use the standard scaler from scikit-learn: https://scikit-learn.org/stable/modules/generated/sklearn.preprocessing.StandardScaler.html"
      ]
    },
    {
      "cell_type": "code",
      "execution_count": 7,
      "metadata": {
        "id": "FaXJaxZYobxE",
        "outputId": "bc2b3997-c1f6-4758-c37b-086602a9924a",
        "colab": {
          "base_uri": "https://localhost:8080/"
        }
      },
      "outputs": [
        {
          "output_type": "stream",
          "name": "stdout",
          "text": [
            "[[-1.71077794 -0.21378804  0.32769344 ...  0.21593399  0.15134062\n",
            "  -0.25927744]\n",
            " [-0.8671697   0.14960975  0.32769344 ... -0.71382533  1.06377811\n",
            "  -0.98697064]\n",
            " [ 1.59134576  1.21184942 -0.3676243  ...  0.40188586  1.15067692\n",
            "   0.89841628]\n",
            " ...\n",
            " [ 0.51875814 -0.58650371 -0.52213935 ...  0.12295806  0.19479003\n",
            "  -0.88473275]\n",
            " [-0.15612846  0.48505385  1.25478376 ... -0.85328923 -0.48591731\n",
            "  -0.49983718]\n",
            " [-0.0115099  -0.5958216   0.67535231 ...  0.77378959 -0.19625461\n",
            "   1.01869614]]\n"
          ]
        }
      ],
      "source": [
        "#load the StandardScaler module\n",
        "from sklearn.preprocessing import StandardScaler\n",
        "\n",
        "# we first \"learn\" the scaler function using the training data\n",
        "scalar = StandardScaler().fit(X_training)\n",
        "\n",
        "# we then apply the scaling function to both training and test data, since we want to simulate what happens when we have data for training and we have future data\n",
        "X_training_scaled = scalar.transform(X_training)\n",
        "X_test_scaled = scalar.transform(X_test)\n",
        "\n",
        "#let's print the scaled version of X_traing_scaled\n",
        "print(X_test_scaled)"
      ]
    },
    {
      "cell_type": "markdown",
      "metadata": {
        "id": "WfEBgvBGobxE"
      },
      "source": [
        "## Learning a Model ##\n",
        "\n",
        "We now need to decide which model/algorithm we are going to use for our classification task. There are several models available in scikit-learn: https://scikit-learn.org/0.23/index.html"
      ]
    },
    {
      "cell_type": "markdown",
      "metadata": {
        "id": "t5zX1RClobxE"
      },
      "source": [
        "We are going to start from the simplest models, that is, linear models: https://scikit-learn.org/0.23/modules/classes.html#module-sklearn.linear_model"
      ]
    },
    {
      "cell_type": "markdown",
      "metadata": {
        "id": "sLHMcVCNobxF"
      },
      "source": [
        "How do we find the best hypothesis?"
      ]
    },
    {
      "cell_type": "markdown",
      "metadata": {
        "id": "O5e4-ZBqobxF"
      },
      "source": [
        "We need to define a loss function and then use Empirical Risk Minimization (ERM).\n",
        "\n",
        "What loss function does it make sense to use?"
      ]
    },
    {
      "cell_type": "markdown",
      "metadata": {
        "id": "rEGDYZeAobxF"
      },
      "source": [
        "But what is the actual algorithm? We are going to consider the **Perceptron** algorithm: https://scikit-learn.org/0.23/modules/generated/sklearn.linear_model.Perceptron.html\n",
        "\n",
        "Let's load the corresponding module in scikit-learn"
      ]
    },
    {
      "cell_type": "code",
      "execution_count": 8,
      "metadata": {
        "id": "sensp6a-obxF"
      },
      "outputs": [],
      "source": [
        "from sklearn.linear_model import Perceptron"
      ]
    },
    {
      "cell_type": "markdown",
      "metadata": {
        "id": "xHAhK-FQobxG"
      },
      "source": [
        "Let's us the Perceptron algorithm as implemented in scikit-learn. It proceeds in iterations.\n",
        "\n",
        "The Perceptron has several parameters, some of which we will understand later on. An important one is $\\texttt{tol}$, that represents how much the training error should improve in one iteration for the algorithm to continue."
      ]
    },
    {
      "cell_type": "code",
      "execution_count": 9,
      "metadata": {
        "id": "bfdeWN61obxG",
        "outputId": "338dcaf8-8292-4bc3-da8e-7ed96d9df587",
        "colab": {
          "base_uri": "https://localhost:8080/",
          "height": 80
        }
      },
      "outputs": [
        {
          "output_type": "execute_result",
          "data": {
            "text/plain": [
              "Perceptron(random_state=1)"
            ],
            "text/html": [
              "<style>#sk-container-id-1 {\n",
              "  /* Definition of color scheme common for light and dark mode */\n",
              "  --sklearn-color-text: #000;\n",
              "  --sklearn-color-text-muted: #666;\n",
              "  --sklearn-color-line: gray;\n",
              "  /* Definition of color scheme for unfitted estimators */\n",
              "  --sklearn-color-unfitted-level-0: #fff5e6;\n",
              "  --sklearn-color-unfitted-level-1: #f6e4d2;\n",
              "  --sklearn-color-unfitted-level-2: #ffe0b3;\n",
              "  --sklearn-color-unfitted-level-3: chocolate;\n",
              "  /* Definition of color scheme for fitted estimators */\n",
              "  --sklearn-color-fitted-level-0: #f0f8ff;\n",
              "  --sklearn-color-fitted-level-1: #d4ebff;\n",
              "  --sklearn-color-fitted-level-2: #b3dbfd;\n",
              "  --sklearn-color-fitted-level-3: cornflowerblue;\n",
              "\n",
              "  /* Specific color for light theme */\n",
              "  --sklearn-color-text-on-default-background: var(--sg-text-color, var(--theme-code-foreground, var(--jp-content-font-color1, black)));\n",
              "  --sklearn-color-background: var(--sg-background-color, var(--theme-background, var(--jp-layout-color0, white)));\n",
              "  --sklearn-color-border-box: var(--sg-text-color, var(--theme-code-foreground, var(--jp-content-font-color1, black)));\n",
              "  --sklearn-color-icon: #696969;\n",
              "\n",
              "  @media (prefers-color-scheme: dark) {\n",
              "    /* Redefinition of color scheme for dark theme */\n",
              "    --sklearn-color-text-on-default-background: var(--sg-text-color, var(--theme-code-foreground, var(--jp-content-font-color1, white)));\n",
              "    --sklearn-color-background: var(--sg-background-color, var(--theme-background, var(--jp-layout-color0, #111)));\n",
              "    --sklearn-color-border-box: var(--sg-text-color, var(--theme-code-foreground, var(--jp-content-font-color1, white)));\n",
              "    --sklearn-color-icon: #878787;\n",
              "  }\n",
              "}\n",
              "\n",
              "#sk-container-id-1 {\n",
              "  color: var(--sklearn-color-text);\n",
              "}\n",
              "\n",
              "#sk-container-id-1 pre {\n",
              "  padding: 0;\n",
              "}\n",
              "\n",
              "#sk-container-id-1 input.sk-hidden--visually {\n",
              "  border: 0;\n",
              "  clip: rect(1px 1px 1px 1px);\n",
              "  clip: rect(1px, 1px, 1px, 1px);\n",
              "  height: 1px;\n",
              "  margin: -1px;\n",
              "  overflow: hidden;\n",
              "  padding: 0;\n",
              "  position: absolute;\n",
              "  width: 1px;\n",
              "}\n",
              "\n",
              "#sk-container-id-1 div.sk-dashed-wrapped {\n",
              "  border: 1px dashed var(--sklearn-color-line);\n",
              "  margin: 0 0.4em 0.5em 0.4em;\n",
              "  box-sizing: border-box;\n",
              "  padding-bottom: 0.4em;\n",
              "  background-color: var(--sklearn-color-background);\n",
              "}\n",
              "\n",
              "#sk-container-id-1 div.sk-container {\n",
              "  /* jupyter's `normalize.less` sets `[hidden] { display: none; }`\n",
              "     but bootstrap.min.css set `[hidden] { display: none !important; }`\n",
              "     so we also need the `!important` here to be able to override the\n",
              "     default hidden behavior on the sphinx rendered scikit-learn.org.\n",
              "     See: https://github.com/scikit-learn/scikit-learn/issues/21755 */\n",
              "  display: inline-block !important;\n",
              "  position: relative;\n",
              "}\n",
              "\n",
              "#sk-container-id-1 div.sk-text-repr-fallback {\n",
              "  display: none;\n",
              "}\n",
              "\n",
              "div.sk-parallel-item,\n",
              "div.sk-serial,\n",
              "div.sk-item {\n",
              "  /* draw centered vertical line to link estimators */\n",
              "  background-image: linear-gradient(var(--sklearn-color-text-on-default-background), var(--sklearn-color-text-on-default-background));\n",
              "  background-size: 2px 100%;\n",
              "  background-repeat: no-repeat;\n",
              "  background-position: center center;\n",
              "}\n",
              "\n",
              "/* Parallel-specific style estimator block */\n",
              "\n",
              "#sk-container-id-1 div.sk-parallel-item::after {\n",
              "  content: \"\";\n",
              "  width: 100%;\n",
              "  border-bottom: 2px solid var(--sklearn-color-text-on-default-background);\n",
              "  flex-grow: 1;\n",
              "}\n",
              "\n",
              "#sk-container-id-1 div.sk-parallel {\n",
              "  display: flex;\n",
              "  align-items: stretch;\n",
              "  justify-content: center;\n",
              "  background-color: var(--sklearn-color-background);\n",
              "  position: relative;\n",
              "}\n",
              "\n",
              "#sk-container-id-1 div.sk-parallel-item {\n",
              "  display: flex;\n",
              "  flex-direction: column;\n",
              "}\n",
              "\n",
              "#sk-container-id-1 div.sk-parallel-item:first-child::after {\n",
              "  align-self: flex-end;\n",
              "  width: 50%;\n",
              "}\n",
              "\n",
              "#sk-container-id-1 div.sk-parallel-item:last-child::after {\n",
              "  align-self: flex-start;\n",
              "  width: 50%;\n",
              "}\n",
              "\n",
              "#sk-container-id-1 div.sk-parallel-item:only-child::after {\n",
              "  width: 0;\n",
              "}\n",
              "\n",
              "/* Serial-specific style estimator block */\n",
              "\n",
              "#sk-container-id-1 div.sk-serial {\n",
              "  display: flex;\n",
              "  flex-direction: column;\n",
              "  align-items: center;\n",
              "  background-color: var(--sklearn-color-background);\n",
              "  padding-right: 1em;\n",
              "  padding-left: 1em;\n",
              "}\n",
              "\n",
              "\n",
              "/* Toggleable style: style used for estimator/Pipeline/ColumnTransformer box that is\n",
              "clickable and can be expanded/collapsed.\n",
              "- Pipeline and ColumnTransformer use this feature and define the default style\n",
              "- Estimators will overwrite some part of the style using the `sk-estimator` class\n",
              "*/\n",
              "\n",
              "/* Pipeline and ColumnTransformer style (default) */\n",
              "\n",
              "#sk-container-id-1 div.sk-toggleable {\n",
              "  /* Default theme specific background. It is overwritten whether we have a\n",
              "  specific estimator or a Pipeline/ColumnTransformer */\n",
              "  background-color: var(--sklearn-color-background);\n",
              "}\n",
              "\n",
              "/* Toggleable label */\n",
              "#sk-container-id-1 label.sk-toggleable__label {\n",
              "  cursor: pointer;\n",
              "  display: flex;\n",
              "  width: 100%;\n",
              "  margin-bottom: 0;\n",
              "  padding: 0.5em;\n",
              "  box-sizing: border-box;\n",
              "  text-align: center;\n",
              "  align-items: start;\n",
              "  justify-content: space-between;\n",
              "  gap: 0.5em;\n",
              "}\n",
              "\n",
              "#sk-container-id-1 label.sk-toggleable__label .caption {\n",
              "  font-size: 0.6rem;\n",
              "  font-weight: lighter;\n",
              "  color: var(--sklearn-color-text-muted);\n",
              "}\n",
              "\n",
              "#sk-container-id-1 label.sk-toggleable__label-arrow:before {\n",
              "  /* Arrow on the left of the label */\n",
              "  content: \"▸\";\n",
              "  float: left;\n",
              "  margin-right: 0.25em;\n",
              "  color: var(--sklearn-color-icon);\n",
              "}\n",
              "\n",
              "#sk-container-id-1 label.sk-toggleable__label-arrow:hover:before {\n",
              "  color: var(--sklearn-color-text);\n",
              "}\n",
              "\n",
              "/* Toggleable content - dropdown */\n",
              "\n",
              "#sk-container-id-1 div.sk-toggleable__content {\n",
              "  max-height: 0;\n",
              "  max-width: 0;\n",
              "  overflow: hidden;\n",
              "  text-align: left;\n",
              "  /* unfitted */\n",
              "  background-color: var(--sklearn-color-unfitted-level-0);\n",
              "}\n",
              "\n",
              "#sk-container-id-1 div.sk-toggleable__content.fitted {\n",
              "  /* fitted */\n",
              "  background-color: var(--sklearn-color-fitted-level-0);\n",
              "}\n",
              "\n",
              "#sk-container-id-1 div.sk-toggleable__content pre {\n",
              "  margin: 0.2em;\n",
              "  border-radius: 0.25em;\n",
              "  color: var(--sklearn-color-text);\n",
              "  /* unfitted */\n",
              "  background-color: var(--sklearn-color-unfitted-level-0);\n",
              "}\n",
              "\n",
              "#sk-container-id-1 div.sk-toggleable__content.fitted pre {\n",
              "  /* unfitted */\n",
              "  background-color: var(--sklearn-color-fitted-level-0);\n",
              "}\n",
              "\n",
              "#sk-container-id-1 input.sk-toggleable__control:checked~div.sk-toggleable__content {\n",
              "  /* Expand drop-down */\n",
              "  max-height: 200px;\n",
              "  max-width: 100%;\n",
              "  overflow: auto;\n",
              "}\n",
              "\n",
              "#sk-container-id-1 input.sk-toggleable__control:checked~label.sk-toggleable__label-arrow:before {\n",
              "  content: \"▾\";\n",
              "}\n",
              "\n",
              "/* Pipeline/ColumnTransformer-specific style */\n",
              "\n",
              "#sk-container-id-1 div.sk-label input.sk-toggleable__control:checked~label.sk-toggleable__label {\n",
              "  color: var(--sklearn-color-text);\n",
              "  background-color: var(--sklearn-color-unfitted-level-2);\n",
              "}\n",
              "\n",
              "#sk-container-id-1 div.sk-label.fitted input.sk-toggleable__control:checked~label.sk-toggleable__label {\n",
              "  background-color: var(--sklearn-color-fitted-level-2);\n",
              "}\n",
              "\n",
              "/* Estimator-specific style */\n",
              "\n",
              "/* Colorize estimator box */\n",
              "#sk-container-id-1 div.sk-estimator input.sk-toggleable__control:checked~label.sk-toggleable__label {\n",
              "  /* unfitted */\n",
              "  background-color: var(--sklearn-color-unfitted-level-2);\n",
              "}\n",
              "\n",
              "#sk-container-id-1 div.sk-estimator.fitted input.sk-toggleable__control:checked~label.sk-toggleable__label {\n",
              "  /* fitted */\n",
              "  background-color: var(--sklearn-color-fitted-level-2);\n",
              "}\n",
              "\n",
              "#sk-container-id-1 div.sk-label label.sk-toggleable__label,\n",
              "#sk-container-id-1 div.sk-label label {\n",
              "  /* The background is the default theme color */\n",
              "  color: var(--sklearn-color-text-on-default-background);\n",
              "}\n",
              "\n",
              "/* On hover, darken the color of the background */\n",
              "#sk-container-id-1 div.sk-label:hover label.sk-toggleable__label {\n",
              "  color: var(--sklearn-color-text);\n",
              "  background-color: var(--sklearn-color-unfitted-level-2);\n",
              "}\n",
              "\n",
              "/* Label box, darken color on hover, fitted */\n",
              "#sk-container-id-1 div.sk-label.fitted:hover label.sk-toggleable__label.fitted {\n",
              "  color: var(--sklearn-color-text);\n",
              "  background-color: var(--sklearn-color-fitted-level-2);\n",
              "}\n",
              "\n",
              "/* Estimator label */\n",
              "\n",
              "#sk-container-id-1 div.sk-label label {\n",
              "  font-family: monospace;\n",
              "  font-weight: bold;\n",
              "  display: inline-block;\n",
              "  line-height: 1.2em;\n",
              "}\n",
              "\n",
              "#sk-container-id-1 div.sk-label-container {\n",
              "  text-align: center;\n",
              "}\n",
              "\n",
              "/* Estimator-specific */\n",
              "#sk-container-id-1 div.sk-estimator {\n",
              "  font-family: monospace;\n",
              "  border: 1px dotted var(--sklearn-color-border-box);\n",
              "  border-radius: 0.25em;\n",
              "  box-sizing: border-box;\n",
              "  margin-bottom: 0.5em;\n",
              "  /* unfitted */\n",
              "  background-color: var(--sklearn-color-unfitted-level-0);\n",
              "}\n",
              "\n",
              "#sk-container-id-1 div.sk-estimator.fitted {\n",
              "  /* fitted */\n",
              "  background-color: var(--sklearn-color-fitted-level-0);\n",
              "}\n",
              "\n",
              "/* on hover */\n",
              "#sk-container-id-1 div.sk-estimator:hover {\n",
              "  /* unfitted */\n",
              "  background-color: var(--sklearn-color-unfitted-level-2);\n",
              "}\n",
              "\n",
              "#sk-container-id-1 div.sk-estimator.fitted:hover {\n",
              "  /* fitted */\n",
              "  background-color: var(--sklearn-color-fitted-level-2);\n",
              "}\n",
              "\n",
              "/* Specification for estimator info (e.g. \"i\" and \"?\") */\n",
              "\n",
              "/* Common style for \"i\" and \"?\" */\n",
              "\n",
              ".sk-estimator-doc-link,\n",
              "a:link.sk-estimator-doc-link,\n",
              "a:visited.sk-estimator-doc-link {\n",
              "  float: right;\n",
              "  font-size: smaller;\n",
              "  line-height: 1em;\n",
              "  font-family: monospace;\n",
              "  background-color: var(--sklearn-color-background);\n",
              "  border-radius: 1em;\n",
              "  height: 1em;\n",
              "  width: 1em;\n",
              "  text-decoration: none !important;\n",
              "  margin-left: 0.5em;\n",
              "  text-align: center;\n",
              "  /* unfitted */\n",
              "  border: var(--sklearn-color-unfitted-level-1) 1pt solid;\n",
              "  color: var(--sklearn-color-unfitted-level-1);\n",
              "}\n",
              "\n",
              ".sk-estimator-doc-link.fitted,\n",
              "a:link.sk-estimator-doc-link.fitted,\n",
              "a:visited.sk-estimator-doc-link.fitted {\n",
              "  /* fitted */\n",
              "  border: var(--sklearn-color-fitted-level-1) 1pt solid;\n",
              "  color: var(--sklearn-color-fitted-level-1);\n",
              "}\n",
              "\n",
              "/* On hover */\n",
              "div.sk-estimator:hover .sk-estimator-doc-link:hover,\n",
              ".sk-estimator-doc-link:hover,\n",
              "div.sk-label-container:hover .sk-estimator-doc-link:hover,\n",
              ".sk-estimator-doc-link:hover {\n",
              "  /* unfitted */\n",
              "  background-color: var(--sklearn-color-unfitted-level-3);\n",
              "  color: var(--sklearn-color-background);\n",
              "  text-decoration: none;\n",
              "}\n",
              "\n",
              "div.sk-estimator.fitted:hover .sk-estimator-doc-link.fitted:hover,\n",
              ".sk-estimator-doc-link.fitted:hover,\n",
              "div.sk-label-container:hover .sk-estimator-doc-link.fitted:hover,\n",
              ".sk-estimator-doc-link.fitted:hover {\n",
              "  /* fitted */\n",
              "  background-color: var(--sklearn-color-fitted-level-3);\n",
              "  color: var(--sklearn-color-background);\n",
              "  text-decoration: none;\n",
              "}\n",
              "\n",
              "/* Span, style for the box shown on hovering the info icon */\n",
              ".sk-estimator-doc-link span {\n",
              "  display: none;\n",
              "  z-index: 9999;\n",
              "  position: relative;\n",
              "  font-weight: normal;\n",
              "  right: .2ex;\n",
              "  padding: .5ex;\n",
              "  margin: .5ex;\n",
              "  width: min-content;\n",
              "  min-width: 20ex;\n",
              "  max-width: 50ex;\n",
              "  color: var(--sklearn-color-text);\n",
              "  box-shadow: 2pt 2pt 4pt #999;\n",
              "  /* unfitted */\n",
              "  background: var(--sklearn-color-unfitted-level-0);\n",
              "  border: .5pt solid var(--sklearn-color-unfitted-level-3);\n",
              "}\n",
              "\n",
              ".sk-estimator-doc-link.fitted span {\n",
              "  /* fitted */\n",
              "  background: var(--sklearn-color-fitted-level-0);\n",
              "  border: var(--sklearn-color-fitted-level-3);\n",
              "}\n",
              "\n",
              ".sk-estimator-doc-link:hover span {\n",
              "  display: block;\n",
              "}\n",
              "\n",
              "/* \"?\"-specific style due to the `<a>` HTML tag */\n",
              "\n",
              "#sk-container-id-1 a.estimator_doc_link {\n",
              "  float: right;\n",
              "  font-size: 1rem;\n",
              "  line-height: 1em;\n",
              "  font-family: monospace;\n",
              "  background-color: var(--sklearn-color-background);\n",
              "  border-radius: 1rem;\n",
              "  height: 1rem;\n",
              "  width: 1rem;\n",
              "  text-decoration: none;\n",
              "  /* unfitted */\n",
              "  color: var(--sklearn-color-unfitted-level-1);\n",
              "  border: var(--sklearn-color-unfitted-level-1) 1pt solid;\n",
              "}\n",
              "\n",
              "#sk-container-id-1 a.estimator_doc_link.fitted {\n",
              "  /* fitted */\n",
              "  border: var(--sklearn-color-fitted-level-1) 1pt solid;\n",
              "  color: var(--sklearn-color-fitted-level-1);\n",
              "}\n",
              "\n",
              "/* On hover */\n",
              "#sk-container-id-1 a.estimator_doc_link:hover {\n",
              "  /* unfitted */\n",
              "  background-color: var(--sklearn-color-unfitted-level-3);\n",
              "  color: var(--sklearn-color-background);\n",
              "  text-decoration: none;\n",
              "}\n",
              "\n",
              "#sk-container-id-1 a.estimator_doc_link.fitted:hover {\n",
              "  /* fitted */\n",
              "  background-color: var(--sklearn-color-fitted-level-3);\n",
              "}\n",
              "</style><div id=\"sk-container-id-1\" class=\"sk-top-container\"><div class=\"sk-text-repr-fallback\"><pre>Perceptron(random_state=1)</pre></b></div><div class=\"sk-container\" hidden><div class=\"sk-item\"><div class=\"sk-estimator fitted sk-toggleable\"><input class=\"sk-toggleable__control sk-hidden--visually\" id=\"sk-estimator-id-1\" type=\"checkbox\" checked><label for=\"sk-estimator-id-1\" class=\"sk-toggleable__label fitted sk-toggleable__label-arrow\"><div><div>Perceptron</div></div><div><a class=\"sk-estimator-doc-link fitted\" rel=\"noreferrer\" target=\"_blank\" href=\"https://scikit-learn.org/1.6/modules/generated/sklearn.linear_model.Perceptron.html\">?<span>Documentation for Perceptron</span></a><span class=\"sk-estimator-doc-link fitted\">i<span>Fitted</span></span></div></label><div class=\"sk-toggleable__content fitted\"><pre>Perceptron(random_state=1)</pre></div> </div></div></div></div>"
            ]
          },
          "metadata": {},
          "execution_count": 9
        }
      ],
      "source": [
        "#let's learn a model using Perceptron\n",
        "\n",
        "#we first define the classifier, fixing the random state for reproducibility\n",
        "perceptron_classifier = Perceptron(random_state=IDnumber, tol=1e-3)\n",
        "\n",
        "#let's now learn the classifier (i.e., run the perceptron to fix the weights)\n",
        "perceptron_classifier.fit(X_training_scaled, Y_trainnig)"
      ]
    },
    {
      "cell_type": "markdown",
      "metadata": {
        "id": "E3bli1lqobxG"
      },
      "source": [
        "Let's print out the model we learned."
      ]
    },
    {
      "cell_type": "code",
      "execution_count": 10,
      "metadata": {
        "id": "-4MnteIlobxH",
        "outputId": "a1b436fa-88ec-4058-f04a-1f7f57933afd",
        "colab": {
          "base_uri": "https://localhost:8080/"
        }
      },
      "outputs": [
        {
          "output_type": "stream",
          "name": "stdout",
          "text": [
            "Coefficient of features (vector w):\n",
            "[[-4.96848696 -1.74558664 -4.09074263  4.03186637 -1.72682244  0.3485182\n",
            "   2.99148804 -0.34645642  2.28746151 -6.78434457  3.53914454  1.1485614\n",
            "  -6.59931033]]\n",
            "Bias of the model(value b:)\n",
            "[-6.]\n"
          ]
        }
      ],
      "source": [
        "print(\"Coefficient of features (vector w):\")\n",
        "print(perceptron_classifier.coef_)\n",
        "\n",
        "print(\"Bias of the model(value b:)\")\n",
        "print(perceptron_classifier.intercept_)"
      ]
    },
    {
      "cell_type": "markdown",
      "metadata": {
        "id": "QSMk8t8tobxH"
      },
      "source": [
        "How well does our method perform?\n",
        "\n",
        "We need to compute the training error of the hypothesis $h_S$ we learned from the training set $S$. There is no function in python to compute the training error $L_S(h_S)$. However, there is a function to compute the \\emph{score}, that for the 0-1 loss corresponds to $1 - L_S(h_S)$."
      ]
    },
    {
      "cell_type": "code",
      "execution_count": 11,
      "metadata": {
        "id": "W9gTKknvobxH",
        "outputId": "590d123e-9c7f-4bc3-c5e7-026510e1bed9",
        "colab": {
          "base_uri": "https://localhost:8080/"
        }
      },
      "outputs": [
        {
          "output_type": "stream",
          "name": "stdout",
          "text": [
            "Training error: 0.0\n"
          ]
        }
      ],
      "source": [
        "#let's compute the training error\n",
        "training_error = 1. - perceptron_classifier.score(X_training_scaled, Y_trainnig)\n",
        "\n",
        "#let's print the training error\n",
        "print(\"Training error:\", training_error)"
      ]
    },
    {
      "cell_type": "markdown",
      "metadata": {
        "id": "I5fzE2jDobxI"
      },
      "source": [
        "But we don't care about the training error... we are interested in the generalization error! How do we estimate it? Let's use some data that we did not use for training, that is what we called test data."
      ]
    },
    {
      "cell_type": "code",
      "execution_count": 12,
      "metadata": {
        "id": "ksde6PElobxI",
        "outputId": "149cb126-55a3-4ca5-e681-1d1deb5605db",
        "colab": {
          "base_uri": "https://localhost:8080/"
        }
      },
      "outputs": [
        {
          "output_type": "stream",
          "name": "stdout",
          "text": [
            "Test error: 0.0449438202247191\n"
          ]
        }
      ],
      "source": [
        "#let's compute the test error\n",
        "test_error = 1. - perceptron_classifier.score(X_test_scaled, Y_test)\n",
        "\n",
        "\n",
        "\n",
        "#let's print the test error\n",
        "print(\"Test error:\", test_error)"
      ]
    },
    {
      "cell_type": "markdown",
      "metadata": {
        "id": "yJjfxZVfobxJ"
      },
      "source": [
        "## Impact of the amount of training data ##\n",
        "\n",
        "We will now try to understand the impact of the amount of data we have for training.\n",
        "\n",
        "To do this, we are going to train a model using a subset of the data with $10*i$ samples, for $i=1,2,3,\\dots,10$, and then compute the training error and the test error."
      ]
    },
    {
      "cell_type": "code",
      "execution_count": 14,
      "metadata": {
        "id": "Tyxkpx3LobxK",
        "outputId": "66089c2f-420d-4a59-bac3-c9b9002c956e",
        "colab": {
          "base_uri": "https://localhost:8080/"
        }
      },
      "outputs": [
        {
          "output_type": "stream",
          "name": "stdout",
          "text": [
            "[0.0, 0.0, 0.0, 0.0, 0.0, 0.0, 0.0, 0.0, 0.0]\n",
            "[0.10119047619047616, 0.14556962025316456, 0.05405405405405406, 0.06521739130434778, 0.078125, 0.06779661016949157, 0.04629629629629628, 0.061224489795918324, 0.05681818181818177]\n"
          ]
        }
      ],
      "source": [
        "#total number of samples, useful for later on\n",
        "m_total = X.shape[0]\n",
        "\n",
        "#two lists where to save the training error and the test error, useful for plotting\n",
        "train_errors = list()\n",
        "test_errors = list()\n",
        "\n",
        "#let's define the learner we use in this part\n",
        "perceptron_class = Perceptron(random_state = IDnumber, tol=1e-3 )\n",
        "\n",
        "for i in range(1,10):\n",
        "    # we now repeat all the previous steps\n",
        "    # split into training and test\n",
        "    X_training = X_perm[:10*i,:]\n",
        "    Y_trainnig = Y_perm[:10*i]\n",
        "\n",
        "    X_test = X_perm[10*i:,:]\n",
        "    Y_test = Y_perm[10*i:]\n",
        "\n",
        "    #scale the data according to the training test, for both training and testing\n",
        "    X_training_scaled = scalar.transform(X_training)\n",
        "    X_test_scaled = scalar.transform(X_test)\n",
        "\n",
        "    #let's now learn the classifier (i.e., run the perceptron to fix the weights\n",
        "    perceptron_class.fit(X_training_scaled, Y_trainnig)\n",
        "\n",
        "    #let's compute the training error\n",
        "    training_error = 1. - perceptron_class.score(X_training_scaled, Y_trainnig)\n",
        "    test_error = 1. - perceptron_class.score(X_test_scaled, Y_test)\n",
        "\n",
        "    #let's save the errors\n",
        "    test_errors.append(test_error)\n",
        "    train_errors.append(training_error)\n",
        "\n",
        "print(train_errors)\n",
        "print(test_errors)\n",
        "\n"
      ]
    },
    {
      "cell_type": "markdown",
      "metadata": {
        "id": "f4W6iwI1obxL"
      },
      "source": [
        "Now let's plot the training and test error as a function of the training dataset size."
      ]
    },
    {
      "cell_type": "code",
      "execution_count": 15,
      "metadata": {
        "id": "gdiaFPX0obxM",
        "outputId": "78934102-153f-4763-d3ae-a633d86de5b7",
        "colab": {
          "base_uri": "https://localhost:8080/",
          "height": 448
        }
      },
      "outputs": [
        {
          "output_type": "execute_result",
          "data": {
            "text/plain": [
              "<matplotlib.legend.Legend at 0x787549a849d0>"
            ]
          },
          "metadata": {},
          "execution_count": 15
        },
        {
          "output_type": "display_data",
          "data": {
            "text/plain": [
              "<Figure size 640x480 with 1 Axes>"
            ],
            "image/png": "[encoded data removed]"
          },
          "metadata": {}
        }
      ],
      "source": [
        "#the following is to have the plots appearing inline\n",
        "%matplotlib inline\n",
        "\n",
        "#import the pyplot module from matplotlib for plotting (functions are similar to matlab)\n",
        "import matplotlib.pyplot as plt\n",
        "\n",
        "x_axis=range(10,100,10)\n",
        "plt.plot(x_axis,train_errors,'x:')\n",
        "plt.plot(x_axis,test_errors,'o:')\n",
        "plt.legend([\"Training error\",\"Test error\"])"
      ]
    },
    {
      "cell_type": "markdown",
      "metadata": {
        "tags": [],
        "id": "Pmr6d2IuobxN"
      },
      "source": [
        "## Impact of initial conditions by the perceptron\n",
        "\n",
        "Note that the solution found by the Perceptron algorithm depends on the initial condition. Let's learn a model with a different random seed for the Perceptron and see how different the model is from the previous one."
      ]
    },
    {
      "cell_type": "code",
      "execution_count": 29,
      "metadata": {
        "id": "7TIfVLc6obxN",
        "outputId": "e8a2971d-a37b-4750-ee46-66df1afada60",
        "colab": {
          "base_uri": "https://localhost:8080/"
        }
      },
      "outputs": [
        {
          "output_type": "stream",
          "name": "stdout",
          "text": [
            "Coefficient of features (vector w):\n",
            "[[-5.20789296 -0.58859762 -2.3737158   2.92449598  0.30461148  1.14957111\n",
            "   2.06191879  0.1192411  -0.04483348 -7.33648239  4.65182617 -1.39542562\n",
            "  -3.57028486]]\n",
            "Bias of the model(value b:)\n",
            "[-3.]\n"
          ]
        }
      ],
      "source": [
        "#let's learn a new model using Perceptron\n",
        "\n",
        "#we first define the classifier, fixing the random state for reproducibility\n",
        "perceptron_classifier = Perceptron(random_state=IDnumber, tol=1e-3)\n",
        "\n",
        "#let's now learn the classifier (i.e., run the perceptron to fix the weights)\n",
        "perceptron_classifier.fit(X_training_scaled, Y_trainnig)\n",
        "\n",
        "print(\"Coefficient of features (vector w):\")\n",
        "print(perceptron_classifier.coef_)\n",
        "\n",
        "print(\"Bias of the model(value b:)\")\n",
        "print(perceptron_classifier.intercept_)\n"
      ]
    },
    {
      "cell_type": "markdown",
      "metadata": {
        "id": "_E22RgUZobxN"
      },
      "source": [
        "## Impact of normalization\n",
        "\n",
        "Let's try to understand what the impact of scaling data is. Let's learn a model without without normalizing the data."
      ]
    },
    {
      "cell_type": "code",
      "execution_count": 20,
      "metadata": {
        "id": "vIz8l0cHobxN",
        "outputId": "80743597-3931-4532-f7fb-7126e174d6fa",
        "colab": {
          "base_uri": "https://localhost:8080/"
        }
      },
      "outputs": [
        {
          "output_type": "stream",
          "name": "stdout",
          "text": [
            "[0.4, 0.6, 0.33333333333333337, 0.6, 0.30000000000000004, 0.31666666666666665, 0.3285714285714286, 0.22499999999999998, 0.33333333333333337]\n",
            "[0.39880952380952384, 0.6012658227848101, 0.41216216216216217, 0.6014492753623188, 0.328125, 0.30508474576271183, 0.36111111111111116, 0.30612244897959184, 0.3522727272727273]\n"
          ]
        }
      ],
      "source": [
        "#total number of samples, useful for later on\n",
        "m_total = X.shape[0]\n",
        "\n",
        "#two lists where to save the training error and the test error, useful for plotting\n",
        "train_errors = list()\n",
        "test_errors = list()\n",
        "\n",
        "#let's define the learner we use in this part\n",
        "perceptron_class = Perceptron(random_state = IDnumber, tol=1e-15 )\n",
        "\n",
        "for i in range(1,10):\n",
        "    # we now repeat all the previous steps\n",
        "    # split into training and test\n",
        "    X_training = X_perm[:10*i,:]\n",
        "    Y_trainnig = Y_perm[:10*i]\n",
        "\n",
        "    X_test = X_perm[10*i:,:]\n",
        "    Y_test = Y_perm[10*i:]\n",
        "\n",
        "    #let's now learn the classifier (i.e., run the perceptron to fix the weights\n",
        "    perceptron_class.fit(X_training, Y_trainnig)\n",
        "\n",
        "    #let's compute the training error\n",
        "    training_error = 1. - perceptron_class.score(X_training, Y_trainnig)\n",
        "    test_error = 1. - perceptron_class.score(X_test, Y_test)\n",
        "\n",
        "    #let's save the errors\n",
        "    test_errors.append(test_error)\n",
        "    train_errors.append(training_error)\n",
        "\n",
        "print(train_errors)\n",
        "print(test_errors)"
      ]
    },
    {
      "cell_type": "markdown",
      "source": [
        "Without scaling, your model can have training errors because many machine learning algorithms are sensitive to the scale and range of the input features.\n"
      ],
      "metadata": {
        "id": "-MRI3BC38O6Y"
      }
    }
  ],
  "metadata": {
    "anaconda-cloud": {},
    "kernelspec": {
      "display_name": "Python 3 (ipykernel)",
      "language": "python",
      "name": "python3"
    },
    "language_info": {
      "codemirror_mode": {
        "name": "ipython",
        "version": 3
      },
      "file_extension": ".py",
      "mimetype": "text/x-python",
      "name": "python",
      "nbconvert_exporter": "python",
      "pygments_lexer": "ipython3",
      "version": "3.9.12"
    },
    "colab": {
      "provenance": [],
      "include_colab_link": true
    }
  },
  "nbformat": 4,
  "nbformat_minor": 0
}
